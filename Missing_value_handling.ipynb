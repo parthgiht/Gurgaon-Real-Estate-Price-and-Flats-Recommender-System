{
 "cells": [
  {
   "cell_type": "code",
   "execution_count": 1,
   "id": "64cb6260-f450-4223-8ef4-199082dc32de",
   "metadata": {},
   "outputs": [],
   "source": [
    "import pandas as pd\n",
    "import numpy as np\n",
    "import matplotlib.pyplot as plt\n",
    "import seaborn as sns"
   ]
  },
  {
   "cell_type": "code",
   "execution_count": 2,
   "id": "be1da498-eb76-48e0-9134-5a75d2a95592",
   "metadata": {},
   "outputs": [],
   "source": [
    "pd.set_option('display.max_columns', None)"
   ]
  },
  {
   "cell_type": "code",
   "execution_count": 3,
   "id": "dd0b996e-ce86-4db4-9958-dbe5ac466732",
   "metadata": {},
   "outputs": [],
   "source": [
    "df = pd.read_csv('Final2_gurgaon_properties_cleaned.csv')"
   ]
  },
  {
   "cell_type": "code",
   "execution_count": 4,
   "id": "2ce9ddc4-56a8-41e5-bd73-360d77d6d944",
   "metadata": {},
   "outputs": [
    {
     "data": {
      "text/html": [
       "<div>\n",
       "<style scoped>\n",
       "    .dataframe tbody tr th:only-of-type {\n",
       "        vertical-align: middle;\n",
       "    }\n",
       "\n",
       "    .dataframe tbody tr th {\n",
       "        vertical-align: top;\n",
       "    }\n",
       "\n",
       "    .dataframe thead th {\n",
       "        text-align: right;\n",
       "    }\n",
       "</style>\n",
       "<table border=\"1\" class=\"dataframe\">\n",
       "  <thead>\n",
       "    <tr style=\"text-align: right;\">\n",
       "      <th></th>\n",
       "      <th>property_type</th>\n",
       "      <th>society</th>\n",
       "      <th>sector</th>\n",
       "      <th>price</th>\n",
       "      <th>price_per_sqft</th>\n",
       "      <th>area</th>\n",
       "      <th>areaWithType</th>\n",
       "      <th>bedRoom</th>\n",
       "      <th>bathroom</th>\n",
       "      <th>balcony</th>\n",
       "      <th>floorNum</th>\n",
       "      <th>facing</th>\n",
       "      <th>agePossession</th>\n",
       "      <th>super_built_up_area</th>\n",
       "      <th>built_up_area</th>\n",
       "      <th>carpet_area</th>\n",
       "      <th>study room</th>\n",
       "      <th>servant room</th>\n",
       "      <th>store room</th>\n",
       "      <th>pooja room</th>\n",
       "      <th>others room</th>\n",
       "      <th>furnishing_type</th>\n",
       "      <th>luxury_score</th>\n",
       "      <th>area_room_ratio</th>\n",
       "    </tr>\n",
       "  </thead>\n",
       "  <tbody>\n",
       "    <tr>\n",
       "      <th>0</th>\n",
       "      <td>flat</td>\n",
       "      <td>signature global park 4</td>\n",
       "      <td>sector 36</td>\n",
       "      <td>0.82</td>\n",
       "      <td>7586.0</td>\n",
       "      <td>1081.0</td>\n",
       "      <td>Super Built up area 1081(100.43 sq.m.)Carpet a...</td>\n",
       "      <td>3</td>\n",
       "      <td>2</td>\n",
       "      <td>2</td>\n",
       "      <td>2.0</td>\n",
       "      <td>NaN</td>\n",
       "      <td>New Property</td>\n",
       "      <td>1081.0</td>\n",
       "      <td>NaN</td>\n",
       "      <td>650.0</td>\n",
       "      <td>0</td>\n",
       "      <td>0</td>\n",
       "      <td>0</td>\n",
       "      <td>0</td>\n",
       "      <td>0</td>\n",
       "      <td>1</td>\n",
       "      <td>8</td>\n",
       "      <td>360.333333</td>\n",
       "    </tr>\n",
       "    <tr>\n",
       "      <th>1</th>\n",
       "      <td>flat</td>\n",
       "      <td>smart world gems</td>\n",
       "      <td>sector 89</td>\n",
       "      <td>0.95</td>\n",
       "      <td>8597.0</td>\n",
       "      <td>1105.0</td>\n",
       "      <td>Carpet area: 1103 (102.47 sq.m.)</td>\n",
       "      <td>2</td>\n",
       "      <td>2</td>\n",
       "      <td>2</td>\n",
       "      <td>4.0</td>\n",
       "      <td>NaN</td>\n",
       "      <td>New Property</td>\n",
       "      <td>NaN</td>\n",
       "      <td>NaN</td>\n",
       "      <td>1103.0</td>\n",
       "      <td>1</td>\n",
       "      <td>1</td>\n",
       "      <td>0</td>\n",
       "      <td>0</td>\n",
       "      <td>0</td>\n",
       "      <td>1</td>\n",
       "      <td>38</td>\n",
       "      <td>552.500000</td>\n",
       "    </tr>\n",
       "    <tr>\n",
       "      <th>2</th>\n",
       "      <td>flat</td>\n",
       "      <td>breez global hill view</td>\n",
       "      <td>sohna road</td>\n",
       "      <td>0.32</td>\n",
       "      <td>5470.0</td>\n",
       "      <td>585.0</td>\n",
       "      <td>Built Up area: 1000 (92.9 sq.m.)Carpet area: 5...</td>\n",
       "      <td>2</td>\n",
       "      <td>2</td>\n",
       "      <td>1</td>\n",
       "      <td>17.0</td>\n",
       "      <td>NaN</td>\n",
       "      <td>New Property</td>\n",
       "      <td>NaN</td>\n",
       "      <td>1000.0</td>\n",
       "      <td>585.0</td>\n",
       "      <td>0</td>\n",
       "      <td>0</td>\n",
       "      <td>0</td>\n",
       "      <td>0</td>\n",
       "      <td>0</td>\n",
       "      <td>1</td>\n",
       "      <td>49</td>\n",
       "      <td>292.500000</td>\n",
       "    </tr>\n",
       "    <tr>\n",
       "      <th>3</th>\n",
       "      <td>flat</td>\n",
       "      <td>bestech park view sanskruti</td>\n",
       "      <td>sector 92</td>\n",
       "      <td>1.60</td>\n",
       "      <td>8020.0</td>\n",
       "      <td>1995.0</td>\n",
       "      <td>Super Built up area 1995(185.34 sq.m.)Built Up...</td>\n",
       "      <td>3</td>\n",
       "      <td>4</td>\n",
       "      <td>3+</td>\n",
       "      <td>10.0</td>\n",
       "      <td>North-West</td>\n",
       "      <td>Relatively New</td>\n",
       "      <td>1995.0</td>\n",
       "      <td>1615.0</td>\n",
       "      <td>1476.0</td>\n",
       "      <td>0</td>\n",
       "      <td>1</td>\n",
       "      <td>0</td>\n",
       "      <td>0</td>\n",
       "      <td>0</td>\n",
       "      <td>2</td>\n",
       "      <td>174</td>\n",
       "      <td>665.000000</td>\n",
       "    </tr>\n",
       "    <tr>\n",
       "      <th>4</th>\n",
       "      <td>flat</td>\n",
       "      <td>suncity avenue</td>\n",
       "      <td>sector 102</td>\n",
       "      <td>0.48</td>\n",
       "      <td>9023.0</td>\n",
       "      <td>532.0</td>\n",
       "      <td>Super Built up area 632(58.71 sq.m.)Carpet are...</td>\n",
       "      <td>2</td>\n",
       "      <td>2</td>\n",
       "      <td>1</td>\n",
       "      <td>5.0</td>\n",
       "      <td>North-East</td>\n",
       "      <td>Relatively New</td>\n",
       "      <td>632.0</td>\n",
       "      <td>NaN</td>\n",
       "      <td>532.0</td>\n",
       "      <td>0</td>\n",
       "      <td>0</td>\n",
       "      <td>1</td>\n",
       "      <td>0</td>\n",
       "      <td>0</td>\n",
       "      <td>1</td>\n",
       "      <td>159</td>\n",
       "      <td>266.000000</td>\n",
       "    </tr>\n",
       "  </tbody>\n",
       "</table>\n",
       "</div>"
      ],
      "text/plain": [
       "  property_type                      society      sector  price  \\\n",
       "0          flat      signature global park 4   sector 36   0.82   \n",
       "1          flat             smart world gems   sector 89   0.95   \n",
       "2          flat       breez global hill view  sohna road   0.32   \n",
       "3          flat  bestech park view sanskruti   sector 92   1.60   \n",
       "4          flat               suncity avenue  sector 102   0.48   \n",
       "\n",
       "   price_per_sqft    area                                       areaWithType  \\\n",
       "0          7586.0  1081.0  Super Built up area 1081(100.43 sq.m.)Carpet a...   \n",
       "1          8597.0  1105.0                   Carpet area: 1103 (102.47 sq.m.)   \n",
       "2          5470.0   585.0  Built Up area: 1000 (92.9 sq.m.)Carpet area: 5...   \n",
       "3          8020.0  1995.0  Super Built up area 1995(185.34 sq.m.)Built Up...   \n",
       "4          9023.0   532.0  Super Built up area 632(58.71 sq.m.)Carpet are...   \n",
       "\n",
       "   bedRoom  bathroom balcony  floorNum      facing   agePossession  \\\n",
       "0        3         2       2       2.0         NaN    New Property   \n",
       "1        2         2       2       4.0         NaN    New Property   \n",
       "2        2         2       1      17.0         NaN    New Property   \n",
       "3        3         4      3+      10.0  North-West  Relatively New   \n",
       "4        2         2       1       5.0  North-East  Relatively New   \n",
       "\n",
       "   super_built_up_area  built_up_area  carpet_area  study room  servant room  \\\n",
       "0               1081.0            NaN        650.0           0             0   \n",
       "1                  NaN            NaN       1103.0           1             1   \n",
       "2                  NaN         1000.0        585.0           0             0   \n",
       "3               1995.0         1615.0       1476.0           0             1   \n",
       "4                632.0            NaN        532.0           0             0   \n",
       "\n",
       "   store room  pooja room  others room  furnishing_type  luxury_score  \\\n",
       "0           0           0            0                1             8   \n",
       "1           0           0            0                1            38   \n",
       "2           0           0            0                1            49   \n",
       "3           0           0            0                2           174   \n",
       "4           1           0            0                1           159   \n",
       "\n",
       "   area_room_ratio  \n",
       "0       360.333333  \n",
       "1       552.500000  \n",
       "2       292.500000  \n",
       "3       665.000000  \n",
       "4       266.000000  "
      ]
     },
     "execution_count": 4,
     "metadata": {},
     "output_type": "execute_result"
    }
   ],
   "source": [
    "df.head()"
   ]
  },
  {
   "cell_type": "code",
   "execution_count": 5,
   "id": "cf6c2e76-e830-4a7c-8d3d-64a4f7fec892",
   "metadata": {},
   "outputs": [
    {
     "data": {
      "text/plain": [
       "(3555, 24)"
      ]
     },
     "execution_count": 5,
     "metadata": {},
     "output_type": "execute_result"
    }
   ],
   "source": [
    "df.shape"
   ]
  },
  {
   "cell_type": "code",
   "execution_count": 6,
   "id": "8f82a891-54b3-4967-871b-b1ed3260016c",
   "metadata": {},
   "outputs": [
    {
     "name": "stdout",
     "output_type": "stream",
     "text": [
      "<class 'pandas.core.frame.DataFrame'>\n",
      "RangeIndex: 3555 entries, 0 to 3554\n",
      "Data columns (total 24 columns):\n",
      " #   Column               Non-Null Count  Dtype  \n",
      "---  ------               --------------  -----  \n",
      " 0   property_type        3555 non-null   object \n",
      " 1   society              3554 non-null   object \n",
      " 2   sector               3555 non-null   object \n",
      " 3   price                3555 non-null   float64\n",
      " 4   price_per_sqft       3555 non-null   float64\n",
      " 5   area                 3555 non-null   float64\n",
      " 6   areaWithType         3555 non-null   object \n",
      " 7   bedRoom              3555 non-null   int64  \n",
      " 8   bathroom             3555 non-null   int64  \n",
      " 9   balcony              3555 non-null   object \n",
      " 10  floorNum             3538 non-null   float64\n",
      " 11  facing               2544 non-null   object \n",
      " 12  agePossession        3555 non-null   object \n",
      " 13  super_built_up_area  1875 non-null   float64\n",
      " 14  built_up_area        1114 non-null   float64\n",
      " 15  carpet_area          1840 non-null   float64\n",
      " 16  study room           3555 non-null   int64  \n",
      " 17  servant room         3555 non-null   int64  \n",
      " 18  store room           3555 non-null   int64  \n",
      " 19  pooja room           3555 non-null   int64  \n",
      " 20  others room          3555 non-null   int64  \n",
      " 21  furnishing_type      3555 non-null   int64  \n",
      " 22  luxury_score         3555 non-null   int64  \n",
      " 23  area_room_ratio      3555 non-null   float64\n",
      "dtypes: float64(8), int64(9), object(7)\n",
      "memory usage: 666.7+ KB\n"
     ]
    }
   ],
   "source": [
    "df.info()"
   ]
  },
  {
   "cell_type": "code",
   "execution_count": 7,
   "id": "77c8309c-e77a-4c7b-a81f-980e891ff0eb",
   "metadata": {},
   "outputs": [
    {
     "data": {
      "text/plain": [
       "property_type             0\n",
       "society                   1\n",
       "sector                    0\n",
       "price                     0\n",
       "price_per_sqft            0\n",
       "area                      0\n",
       "areaWithType              0\n",
       "bedRoom                   0\n",
       "bathroom                  0\n",
       "balcony                   0\n",
       "floorNum                 17\n",
       "facing                 1011\n",
       "agePossession             0\n",
       "super_built_up_area    1680\n",
       "built_up_area          2441\n",
       "carpet_area            1715\n",
       "study room                0\n",
       "servant room              0\n",
       "store room                0\n",
       "pooja room                0\n",
       "others room               0\n",
       "furnishing_type           0\n",
       "luxury_score              0\n",
       "area_room_ratio           0\n",
       "dtype: int64"
      ]
     },
     "execution_count": 7,
     "metadata": {},
     "output_type": "execute_result"
    }
   ],
   "source": [
    "df.isnull().sum()"
   ]
  },
  {
   "cell_type": "code",
   "execution_count": null,
   "id": "545b31c0-86b7-4cc8-af0d-dd903efde6c3",
   "metadata": {},
   "outputs": [],
   "source": []
  },
  {
   "cell_type": "markdown",
   "id": "69285435-faf8-41e7-a036-f01e1baeeba9",
   "metadata": {},
   "source": [
    "# built_up_area"
   ]
  },
  {
   "cell_type": "code",
   "execution_count": 8,
   "id": "df304781-63f4-499e-bc90-c15f99daedae",
   "metadata": {},
   "outputs": [
    {
     "data": {
      "text/plain": [
       "<Axes: xlabel='built_up_area', ylabel='super_built_up_area'>"
      ]
     },
     "execution_count": 8,
     "metadata": {},
     "output_type": "execute_result"
    },
    {
     "data": {
      "image/png": "[encoded data removed]",
      "text/plain": [
       "<Figure size 640x480 with 1 Axes>"
      ]
     },
     "metadata": {},
     "output_type": "display_data"
    }
   ],
   "source": [
    "# strong relationship \n",
    "sns.scatterplot(x = df['built_up_area'], y = df['super_built_up_area'])"
   ]
  },
  {
   "cell_type": "code",
   "execution_count": 9,
   "id": "c308adc0-df38-4e59-beec-b357554eb2d2",
   "metadata": {},
   "outputs": [
    {
     "data": {
      "text/plain": [
       "<Axes: xlabel='built_up_area', ylabel='carpet_area'>"
      ]
     },
     "execution_count": 9,
     "metadata": {},
     "output_type": "execute_result"
    },
    {
     "data": {
      "image/png": "[encoded data removed]",
      "text/plain": [
       "<Figure size 640x480 with 1 Axes>"
      ]
     },
     "metadata": {},
     "output_type": "display_data"
    }
   ],
   "source": [
    "sns.scatterplot(x = df['built_up_area'], y = df['carpet_area'])"
   ]
  },
  {
   "cell_type": "code",
   "execution_count": 10,
   "id": "24ff5a0c-5f01-44fc-96d4-d11fdd1a1cee",
   "metadata": {},
   "outputs": [
    {
     "data": {
      "text/plain": [
       "0       False\n",
       "1       False\n",
       "2       False\n",
       "3       False\n",
       "4       False\n",
       "        ...  \n",
       "3550    False\n",
       "3551     True\n",
       "3552    False\n",
       "3553     True\n",
       "3554    False\n",
       "Length: 3555, dtype: bool"
      ]
     },
     "execution_count": 10,
     "metadata": {},
     "output_type": "execute_result"
    }
   ],
   "source": [
    "((df['super_built_up_area'].isnull()) & (df['built_up_area'].isnull()) & (df['carpet_area'].isnull()))"
   ]
  },
  {
   "cell_type": "code",
   "execution_count": 11,
   "id": "d803491f-deaa-4af3-9c99-6e2568342dc1",
   "metadata": {},
   "outputs": [],
   "source": [
    "all_present_df = df[~((df['super_built_up_area'].isnull()) | (df['built_up_area'].isnull()) | (df['carpet_area'].isnull()))]"
   ]
  },
  {
   "cell_type": "code",
   "execution_count": 12,
   "id": "41e73085-63e3-4268-aca1-2588bd02fe41",
   "metadata": {},
   "outputs": [],
   "source": [
    "super_built_up_area_ratio = (all_present_df['super_built_up_area'] / all_present_df['built_up_area']).median()"
   ]
  },
  {
   "cell_type": "code",
   "execution_count": 13,
   "id": "ec986f12-278f-4500-a986-9eedfb17a23e",
   "metadata": {},
   "outputs": [],
   "source": [
    "carpet_to_built_up_area_ratio = (all_present_df['carpet_area'] / all_present_df['built_up_area']).median()"
   ]
  },
  {
   "cell_type": "code",
   "execution_count": 14,
   "id": "01acdd6d-3610-4dce-8158-7eea4bc966e7",
   "metadata": {},
   "outputs": [
    {
     "name": "stdout",
     "output_type": "stream",
     "text": [
      "1.105263157894737 0.9\n"
     ]
    }
   ],
   "source": [
    "print(super_built_up_area_ratio, carpet_to_built_up_area_ratio)"
   ]
  },
  {
   "cell_type": "code",
   "execution_count": 15,
   "id": "d2d81afb-63cb-4e9a-b068-9d4423a9d725",
   "metadata": {},
   "outputs": [],
   "source": [
    "sbc_df = df[~(df['super_built_up_area'].isnull()) & (df['built_up_area'].isnull()) & ~(df['carpet_area'].isnull())]"
   ]
  },
  {
   "cell_type": "code",
   "execution_count": 16,
   "id": "4415b8a6-afaf-416c-80a4-4ef509abe46d",
   "metadata": {},
   "outputs": [
    {
     "name": "stderr",
     "output_type": "stream",
     "text": [
      "C:\\Users\\parth\\AppData\\Local\\Temp\\ipykernel_5152\\1903227928.py:1: FutureWarning: A value is trying to be set on a copy of a DataFrame or Series through chained assignment using an inplace method.\n",
      "The behavior will change in pandas 3.0. This inplace method will never work because the intermediate object on which we are setting values always behaves as a copy.\n",
      "\n",
      "For example, when doing 'df[col].method(value, inplace=True)', try using 'df.method({col: value}, inplace=True)' or df[col] = df[col].method(value) instead, to perform the operation inplace on the original object.\n",
      "\n",
      "\n",
      "  sbc_df['built_up_area'].fillna(round(((sbc_df['super_built_up_area'] / 1.105) + (sbc_df['carpet_area'] / 0.9))/2), inplace = True)\n",
      "C:\\Users\\parth\\AppData\\Local\\Temp\\ipykernel_5152\\1903227928.py:1: SettingWithCopyWarning: \n",
      "A value is trying to be set on a copy of a slice from a DataFrame\n",
      "\n",
      "See the caveats in the documentation: https://pandas.pydata.org/pandas-docs/stable/user_guide/indexing.html#returning-a-view-versus-a-copy\n",
      "  sbc_df['built_up_area'].fillna(round(((sbc_df['super_built_up_area'] / 1.105) + (sbc_df['carpet_area'] / 0.9))/2), inplace = True)\n"
     ]
    }
   ],
   "source": [
    "sbc_df['built_up_area'].fillna(round(((sbc_df['super_built_up_area'] / 1.105) + (sbc_df['carpet_area'] / 0.9))/2), inplace = True)"
   ]
  },
  {
   "cell_type": "code",
   "execution_count": 17,
   "id": "95909835-d156-4260-a498-90f4223cf3d0",
   "metadata": {},
   "outputs": [],
   "source": [
    "df.update(sbc_df)"
   ]
  },
  {
   "cell_type": "code",
   "execution_count": 18,
   "id": "6cdbcd26-d881-4090-b372-abf49700ead5",
   "metadata": {},
   "outputs": [
    {
     "data": {
      "text/plain": [
       "property_type             0\n",
       "society                   1\n",
       "sector                    0\n",
       "price                     0\n",
       "price_per_sqft            0\n",
       "area                      0\n",
       "areaWithType              0\n",
       "bedRoom                   0\n",
       "bathroom                  0\n",
       "balcony                   0\n",
       "floorNum                 17\n",
       "facing                 1011\n",
       "agePossession             0\n",
       "super_built_up_area    1680\n",
       "built_up_area          2020\n",
       "carpet_area            1715\n",
       "study room                0\n",
       "servant room              0\n",
       "store room                0\n",
       "pooja room                0\n",
       "others room               0\n",
       "furnishing_type           0\n",
       "luxury_score              0\n",
       "area_room_ratio           0\n",
       "dtype: int64"
      ]
     },
     "execution_count": 18,
     "metadata": {},
     "output_type": "execute_result"
    }
   ],
   "source": [
    "df.isnull().sum()"
   ]
  },
  {
   "cell_type": "code",
   "execution_count": 19,
   "id": "1a94e01a-c13e-43bb-afd1-7b06bf3c8d6d",
   "metadata": {},
   "outputs": [],
   "source": [
    "sb_df = df[~(df['super_built_up_area'].isnull()) & (df['built_up_area'].isnull()) & (df['carpet_area'].isnull())]"
   ]
  },
  {
   "cell_type": "code",
   "execution_count": 20,
   "id": "88ca256e-dbd4-4ca8-8e70-b0e0ffe31866",
   "metadata": {},
   "outputs": [
    {
     "name": "stderr",
     "output_type": "stream",
     "text": [
      "C:\\Users\\parth\\AppData\\Local\\Temp\\ipykernel_5152\\1992652892.py:1: FutureWarning: A value is trying to be set on a copy of a DataFrame or Series through chained assignment using an inplace method.\n",
      "The behavior will change in pandas 3.0. This inplace method will never work because the intermediate object on which we are setting values always behaves as a copy.\n",
      "\n",
      "For example, when doing 'df[col].method(value, inplace=True)', try using 'df.method({col: value}, inplace=True)' or df[col] = df[col].method(value) instead, to perform the operation inplace on the original object.\n",
      "\n",
      "\n",
      "  sb_df['built_up_area'].fillna(round(sb_df['super_built_up_area'] / 1.105), inplace = True)\n",
      "C:\\Users\\parth\\AppData\\Local\\Temp\\ipykernel_5152\\1992652892.py:1: SettingWithCopyWarning: \n",
      "A value is trying to be set on a copy of a slice from a DataFrame\n",
      "\n",
      "See the caveats in the documentation: https://pandas.pydata.org/pandas-docs/stable/user_guide/indexing.html#returning-a-view-versus-a-copy\n",
      "  sb_df['built_up_area'].fillna(round(sb_df['super_built_up_area'] / 1.105), inplace = True)\n"
     ]
    }
   ],
   "source": [
    "sb_df['built_up_area'].fillna(round(sb_df['super_built_up_area'] / 1.105), inplace = True)"
   ]
  },
  {
   "cell_type": "code",
   "execution_count": 21,
   "id": "d46f759d-bde7-43e7-b4db-989562b770d4",
   "metadata": {},
   "outputs": [],
   "source": [
    "df.update(sb_df)"
   ]
  },
  {
   "cell_type": "code",
   "execution_count": 22,
   "id": "be8dc379-2100-4b6d-8bcc-3c7dd2bf7e9b",
   "metadata": {},
   "outputs": [
    {
     "data": {
      "text/plain": [
       "property_type             0\n",
       "society                   1\n",
       "sector                    0\n",
       "price                     0\n",
       "price_per_sqft            0\n",
       "area                      0\n",
       "areaWithType              0\n",
       "bedRoom                   0\n",
       "bathroom                  0\n",
       "balcony                   0\n",
       "floorNum                 17\n",
       "facing                 1011\n",
       "agePossession             0\n",
       "super_built_up_area    1680\n",
       "built_up_area          1145\n",
       "carpet_area            1715\n",
       "study room                0\n",
       "servant room              0\n",
       "store room                0\n",
       "pooja room                0\n",
       "others room               0\n",
       "furnishing_type           0\n",
       "luxury_score              0\n",
       "area_room_ratio           0\n",
       "dtype: int64"
      ]
     },
     "execution_count": 22,
     "metadata": {},
     "output_type": "execute_result"
    }
   ],
   "source": [
    "df.isnull().sum()"
   ]
  },
  {
   "cell_type": "code",
   "execution_count": 23,
   "id": "5aecffb9-332c-4ab0-89ff-49b5f0f5e996",
   "metadata": {},
   "outputs": [],
   "source": [
    "c_df = df[(df['super_built_up_area'].isnull()) & (df['built_up_area'].isnull()) & ~(df['carpet_area'].isnull())]"
   ]
  },
  {
   "cell_type": "code",
   "execution_count": 24,
   "id": "4631fdea-84cd-4056-ba4f-c8e94d92f98d",
   "metadata": {},
   "outputs": [
    {
     "name": "stderr",
     "output_type": "stream",
     "text": [
      "C:\\Users\\parth\\AppData\\Local\\Temp\\ipykernel_5152\\1043883308.py:1: FutureWarning: A value is trying to be set on a copy of a DataFrame or Series through chained assignment using an inplace method.\n",
      "The behavior will change in pandas 3.0. This inplace method will never work because the intermediate object on which we are setting values always behaves as a copy.\n",
      "\n",
      "For example, when doing 'df[col].method(value, inplace=True)', try using 'df.method({col: value}, inplace=True)' or df[col] = df[col].method(value) instead, to perform the operation inplace on the original object.\n",
      "\n",
      "\n",
      "  c_df['built_up_area'].fillna(round(c_df['carpet_area'] / 0.9), inplace = True)\n",
      "C:\\Users\\parth\\AppData\\Local\\Temp\\ipykernel_5152\\1043883308.py:1: SettingWithCopyWarning: \n",
      "A value is trying to be set on a copy of a slice from a DataFrame\n",
      "\n",
      "See the caveats in the documentation: https://pandas.pydata.org/pandas-docs/stable/user_guide/indexing.html#returning-a-view-versus-a-copy\n",
      "  c_df['built_up_area'].fillna(round(c_df['carpet_area'] / 0.9), inplace = True)\n"
     ]
    }
   ],
   "source": [
    "c_df['built_up_area'].fillna(round(c_df['carpet_area'] / 0.9), inplace = True)"
   ]
  },
  {
   "cell_type": "code",
   "execution_count": 25,
   "id": "b745a97f-5bf9-483a-a16d-afd5e16eea63",
   "metadata": {},
   "outputs": [],
   "source": [
    "df.update(c_df)"
   ]
  },
  {
   "cell_type": "code",
   "execution_count": 26,
   "id": "01e8526a-d9cd-4e32-8e78-67b1cc4b4bb4",
   "metadata": {},
   "outputs": [
    {
     "data": {
      "text/plain": [
       "property_type             0\n",
       "society                   1\n",
       "sector                    0\n",
       "price                     0\n",
       "price_per_sqft            0\n",
       "area                      0\n",
       "areaWithType              0\n",
       "bedRoom                   0\n",
       "bathroom                  0\n",
       "balcony                   0\n",
       "floorNum                 17\n",
       "facing                 1011\n",
       "agePossession             0\n",
       "super_built_up_area    1680\n",
       "built_up_area           473\n",
       "carpet_area            1715\n",
       "study room                0\n",
       "servant room              0\n",
       "store room                0\n",
       "pooja room                0\n",
       "others room               0\n",
       "furnishing_type           0\n",
       "luxury_score              0\n",
       "area_room_ratio           0\n",
       "dtype: int64"
      ]
     },
     "execution_count": 26,
     "metadata": {},
     "output_type": "execute_result"
    }
   ],
   "source": [
    "df.isnull().sum()"
   ]
  },
  {
   "cell_type": "code",
   "execution_count": 27,
   "id": "f9343698-f6b3-47ec-9db0-71dfcfa9f0e4",
   "metadata": {},
   "outputs": [],
   "source": [
    "null_index = df[df['built_up_area'].isnull()].index"
   ]
  },
  {
   "cell_type": "code",
   "execution_count": 28,
   "id": "1d49b675-f08f-4af4-b63c-7d0f186733be",
   "metadata": {},
   "outputs": [],
   "source": [
    "df = df.drop(index=null_index)"
   ]
  },
  {
   "cell_type": "code",
   "execution_count": 29,
   "id": "4445f77c-6dae-4c30-bffc-a348bb68bf99",
   "metadata": {},
   "outputs": [
    {
     "data": {
      "text/plain": [
       "property_type             0\n",
       "society                   1\n",
       "sector                    0\n",
       "price                     0\n",
       "price_per_sqft            0\n",
       "area                      0\n",
       "areaWithType              0\n",
       "bedRoom                   0\n",
       "bathroom                  0\n",
       "balcony                   0\n",
       "floorNum                  6\n",
       "facing                  904\n",
       "agePossession             0\n",
       "super_built_up_area    1207\n",
       "built_up_area             0\n",
       "carpet_area            1242\n",
       "study room                0\n",
       "servant room              0\n",
       "store room                0\n",
       "pooja room                0\n",
       "others room               0\n",
       "furnishing_type           0\n",
       "luxury_score              0\n",
       "area_room_ratio           0\n",
       "dtype: int64"
      ]
     },
     "execution_count": 29,
     "metadata": {},
     "output_type": "execute_result"
    }
   ],
   "source": [
    "df.isnull().sum()"
   ]
  },
  {
   "cell_type": "code",
   "execution_count": 30,
   "id": "50bc6360-f9c4-4de3-8322-619b04d18585",
   "metadata": {},
   "outputs": [
    {
     "data": {
      "text/plain": [
       "<Axes: xlabel='built_up_area', ylabel='price'>"
      ]
     },
     "execution_count": 30,
     "metadata": {},
     "output_type": "execute_result"
    },
    {
     "data": {
      "image/png": "[encoded data removed]",
      "text/plain": [
       "<Figure size 640x480 with 1 Axes>"
      ]
     },
     "metadata": {},
     "output_type": "display_data"
    }
   ],
   "source": [
    "sns.scatterplot(x = df['built_up_area'], y = df['price'])"
   ]
  },
  {
   "cell_type": "code",
   "execution_count": 31,
   "id": "cad20588-14b8-41cb-ab2c-01420446a684",
   "metadata": {},
   "outputs": [],
   "source": [
    "anomly_df = df[(df['built_up_area'] < 2000) & (df['price'] > 2.5)][['price','area','built_up_area']]"
   ]
  },
  {
   "cell_type": "code",
   "execution_count": 40,
   "id": "4d15e57e-0a4a-4139-b703-ad56159754e3",
   "metadata": {},
   "outputs": [
    {
     "data": {
      "text/html": [
       "<div>\n",
       "<style scoped>\n",
       "    .dataframe tbody tr th:only-of-type {\n",
       "        vertical-align: middle;\n",
       "    }\n",
       "\n",
       "    .dataframe tbody tr th {\n",
       "        vertical-align: top;\n",
       "    }\n",
       "\n",
       "    .dataframe thead th {\n",
       "        text-align: right;\n",
       "    }\n",
       "</style>\n",
       "<table border=\"1\" class=\"dataframe\">\n",
       "  <thead>\n",
       "    <tr style=\"text-align: right;\">\n",
       "      <th></th>\n",
       "      <th>price</th>\n",
       "      <th>area</th>\n",
       "      <th>built_up_area</th>\n",
       "    </tr>\n",
       "  </thead>\n",
       "  <tbody>\n",
       "    <tr>\n",
       "      <th>2411</th>\n",
       "      <td>3.50</td>\n",
       "      <td>1440.0</td>\n",
       "      <td>1440.0</td>\n",
       "    </tr>\n",
       "    <tr>\n",
       "      <th>1940</th>\n",
       "      <td>4.85</td>\n",
       "      <td>1875.0</td>\n",
       "      <td>1875.0</td>\n",
       "    </tr>\n",
       "    <tr>\n",
       "      <th>3387</th>\n",
       "      <td>3.50</td>\n",
       "      <td>1350.0</td>\n",
       "      <td>1350.0</td>\n",
       "    </tr>\n",
       "    <tr>\n",
       "      <th>2726</th>\n",
       "      <td>8.00</td>\n",
       "      <td>3132.0</td>\n",
       "      <td>3132.0</td>\n",
       "    </tr>\n",
       "    <tr>\n",
       "      <th>1821</th>\n",
       "      <td>3.45</td>\n",
       "      <td>1869.0</td>\n",
       "      <td>1869.0</td>\n",
       "    </tr>\n",
       "  </tbody>\n",
       "</table>\n",
       "</div>"
      ],
      "text/plain": [
       "      price    area  built_up_area\n",
       "2411   3.50  1440.0         1440.0\n",
       "1940   4.85  1875.0         1875.0\n",
       "3387   3.50  1350.0         1350.0\n",
       "2726   8.00  3132.0         3132.0\n",
       "1821   3.45  1869.0         1869.0"
      ]
     },
     "execution_count": 40,
     "metadata": {},
     "output_type": "execute_result"
    }
   ],
   "source": [
    "anomly_df.sample(5)"
   ]
  },
  {
   "cell_type": "code",
   "execution_count": 32,
   "id": "762a6f76-0c89-4f7e-a17b-41b2280a0d6b",
   "metadata": {},
   "outputs": [],
   "source": [
    "anomly_df['built_up_area'] = anomly_df['area']"
   ]
  },
  {
   "cell_type": "code",
   "execution_count": 41,
   "id": "9af4f056-c13a-4027-b3ab-f0a671612ec9",
   "metadata": {},
   "outputs": [],
   "source": [
    "df.update(anomly_df)"
   ]
  },
  {
   "cell_type": "code",
   "execution_count": 42,
   "id": "a291681e-c844-4be4-afa6-be42c23c0c92",
   "metadata": {},
   "outputs": [
    {
     "data": {
      "text/plain": [
       "<Axes: xlabel='built_up_area', ylabel='price'>"
      ]
     },
     "execution_count": 42,
     "metadata": {},
     "output_type": "execute_result"
    },
    {
     "data": {
      "image/png": "[encoded data removed]",
      "text/plain": [
       "<Figure size 640x480 with 1 Axes>"
      ]
     },
     "metadata": {},
     "output_type": "display_data"
    }
   ],
   "source": [
    "sns.scatterplot(x = df['built_up_area'], y = df['price'])"
   ]
  },
  {
   "cell_type": "code",
   "execution_count": 43,
   "id": "3516501d-7d83-44d2-9e30-586b78ff9b37",
   "metadata": {},
   "outputs": [],
   "source": [
    "df.drop(columns = ['area', 'areaWithType', 'super_built_up_area', 'carpet_area', 'area_room_ratio'],inplace = True)"
   ]
  },
  {
   "cell_type": "code",
   "execution_count": 44,
   "id": "33e3f9b4-c8d5-41a6-a71d-91a5140e5249",
   "metadata": {},
   "outputs": [
    {
     "data": {
      "text/html": [
       "<div>\n",
       "<style scoped>\n",
       "    .dataframe tbody tr th:only-of-type {\n",
       "        vertical-align: middle;\n",
       "    }\n",
       "\n",
       "    .dataframe tbody tr th {\n",
       "        vertical-align: top;\n",
       "    }\n",
       "\n",
       "    .dataframe thead th {\n",
       "        text-align: right;\n",
       "    }\n",
       "</style>\n",
       "<table border=\"1\" class=\"dataframe\">\n",
       "  <thead>\n",
       "    <tr style=\"text-align: right;\">\n",
       "      <th></th>\n",
       "      <th>property_type</th>\n",
       "      <th>society</th>\n",
       "      <th>sector</th>\n",
       "      <th>price</th>\n",
       "      <th>price_per_sqft</th>\n",
       "      <th>bedRoom</th>\n",
       "      <th>bathroom</th>\n",
       "      <th>balcony</th>\n",
       "      <th>floorNum</th>\n",
       "      <th>facing</th>\n",
       "      <th>agePossession</th>\n",
       "      <th>built_up_area</th>\n",
       "      <th>study room</th>\n",
       "      <th>servant room</th>\n",
       "      <th>store room</th>\n",
       "      <th>pooja room</th>\n",
       "      <th>others room</th>\n",
       "      <th>furnishing_type</th>\n",
       "      <th>luxury_score</th>\n",
       "    </tr>\n",
       "  </thead>\n",
       "  <tbody>\n",
       "    <tr>\n",
       "      <th>0</th>\n",
       "      <td>flat</td>\n",
       "      <td>signature global park 4</td>\n",
       "      <td>sector 36</td>\n",
       "      <td>0.82</td>\n",
       "      <td>7586.0</td>\n",
       "      <td>3</td>\n",
       "      <td>2</td>\n",
       "      <td>2</td>\n",
       "      <td>2.0</td>\n",
       "      <td>NaN</td>\n",
       "      <td>New Property</td>\n",
       "      <td>850.0</td>\n",
       "      <td>0</td>\n",
       "      <td>0</td>\n",
       "      <td>0</td>\n",
       "      <td>0</td>\n",
       "      <td>0</td>\n",
       "      <td>1</td>\n",
       "      <td>8</td>\n",
       "    </tr>\n",
       "    <tr>\n",
       "      <th>1</th>\n",
       "      <td>flat</td>\n",
       "      <td>smart world gems</td>\n",
       "      <td>sector 89</td>\n",
       "      <td>0.95</td>\n",
       "      <td>8597.0</td>\n",
       "      <td>2</td>\n",
       "      <td>2</td>\n",
       "      <td>2</td>\n",
       "      <td>4.0</td>\n",
       "      <td>NaN</td>\n",
       "      <td>New Property</td>\n",
       "      <td>1226.0</td>\n",
       "      <td>1</td>\n",
       "      <td>1</td>\n",
       "      <td>0</td>\n",
       "      <td>0</td>\n",
       "      <td>0</td>\n",
       "      <td>1</td>\n",
       "      <td>38</td>\n",
       "    </tr>\n",
       "    <tr>\n",
       "      <th>2</th>\n",
       "      <td>flat</td>\n",
       "      <td>breez global hill view</td>\n",
       "      <td>sohna road</td>\n",
       "      <td>0.32</td>\n",
       "      <td>5470.0</td>\n",
       "      <td>2</td>\n",
       "      <td>2</td>\n",
       "      <td>1</td>\n",
       "      <td>17.0</td>\n",
       "      <td>NaN</td>\n",
       "      <td>New Property</td>\n",
       "      <td>1000.0</td>\n",
       "      <td>0</td>\n",
       "      <td>0</td>\n",
       "      <td>0</td>\n",
       "      <td>0</td>\n",
       "      <td>0</td>\n",
       "      <td>1</td>\n",
       "      <td>49</td>\n",
       "    </tr>\n",
       "    <tr>\n",
       "      <th>3</th>\n",
       "      <td>flat</td>\n",
       "      <td>bestech park view sanskruti</td>\n",
       "      <td>sector 92</td>\n",
       "      <td>1.60</td>\n",
       "      <td>8020.0</td>\n",
       "      <td>3</td>\n",
       "      <td>4</td>\n",
       "      <td>3+</td>\n",
       "      <td>10.0</td>\n",
       "      <td>North-West</td>\n",
       "      <td>Relatively New</td>\n",
       "      <td>1615.0</td>\n",
       "      <td>0</td>\n",
       "      <td>1</td>\n",
       "      <td>0</td>\n",
       "      <td>0</td>\n",
       "      <td>0</td>\n",
       "      <td>2</td>\n",
       "      <td>174</td>\n",
       "    </tr>\n",
       "    <tr>\n",
       "      <th>4</th>\n",
       "      <td>flat</td>\n",
       "      <td>suncity avenue</td>\n",
       "      <td>sector 102</td>\n",
       "      <td>0.48</td>\n",
       "      <td>9023.0</td>\n",
       "      <td>2</td>\n",
       "      <td>2</td>\n",
       "      <td>1</td>\n",
       "      <td>5.0</td>\n",
       "      <td>North-East</td>\n",
       "      <td>Relatively New</td>\n",
       "      <td>582.0</td>\n",
       "      <td>0</td>\n",
       "      <td>0</td>\n",
       "      <td>1</td>\n",
       "      <td>0</td>\n",
       "      <td>0</td>\n",
       "      <td>1</td>\n",
       "      <td>159</td>\n",
       "    </tr>\n",
       "  </tbody>\n",
       "</table>\n",
       "</div>"
      ],
      "text/plain": [
       "  property_type                      society      sector  price  \\\n",
       "0          flat      signature global park 4   sector 36   0.82   \n",
       "1          flat             smart world gems   sector 89   0.95   \n",
       "2          flat       breez global hill view  sohna road   0.32   \n",
       "3          flat  bestech park view sanskruti   sector 92   1.60   \n",
       "4          flat               suncity avenue  sector 102   0.48   \n",
       "\n",
       "   price_per_sqft  bedRoom  bathroom balcony  floorNum      facing  \\\n",
       "0          7586.0        3         2       2       2.0         NaN   \n",
       "1          8597.0        2         2       2       4.0         NaN   \n",
       "2          5470.0        2         2       1      17.0         NaN   \n",
       "3          8020.0        3         4      3+      10.0  North-West   \n",
       "4          9023.0        2         2       1       5.0  North-East   \n",
       "\n",
       "    agePossession  built_up_area  study room  servant room  store room  \\\n",
       "0    New Property          850.0           0             0           0   \n",
       "1    New Property         1226.0           1             1           0   \n",
       "2    New Property         1000.0           0             0           0   \n",
       "3  Relatively New         1615.0           0             1           0   \n",
       "4  Relatively New          582.0           0             0           1   \n",
       "\n",
       "   pooja room  others room  furnishing_type  luxury_score  \n",
       "0           0            0                1             8  \n",
       "1           0            0                1            38  \n",
       "2           0            0                1            49  \n",
       "3           0            0                2           174  \n",
       "4           0            0                1           159  "
      ]
     },
     "execution_count": 44,
     "metadata": {},
     "output_type": "execute_result"
    }
   ],
   "source": [
    "df.head()"
   ]
  },
  {
   "cell_type": "code",
   "execution_count": 45,
   "id": "26d2ddab-9641-45e8-b40f-fbec88bf2a0d",
   "metadata": {},
   "outputs": [
    {
     "data": {
      "text/plain": [
       "property_type        0\n",
       "society              1\n",
       "sector               0\n",
       "price                0\n",
       "price_per_sqft       0\n",
       "bedRoom              0\n",
       "bathroom             0\n",
       "balcony              0\n",
       "floorNum             6\n",
       "facing             904\n",
       "agePossession        0\n",
       "built_up_area        0\n",
       "study room           0\n",
       "servant room         0\n",
       "store room           0\n",
       "pooja room           0\n",
       "others room          0\n",
       "furnishing_type      0\n",
       "luxury_score         0\n",
       "dtype: int64"
      ]
     },
     "execution_count": 45,
     "metadata": {},
     "output_type": "execute_result"
    }
   ],
   "source": [
    "df.isnull().sum()"
   ]
  },
  {
   "cell_type": "code",
   "execution_count": null,
   "id": "53282e24-d272-4a59-a581-1d2cb3faacb7",
   "metadata": {},
   "outputs": [],
   "source": []
  },
  {
   "cell_type": "markdown",
   "id": "e6bcf13c-bdef-4c66-b1ee-d297ab540a0b",
   "metadata": {},
   "source": [
    "# floorNum"
   ]
  },
  {
   "cell_type": "code",
   "execution_count": 46,
   "id": "582a1215-bf3f-475a-8c30-7f30d38f2b03",
   "metadata": {},
   "outputs": [
    {
     "data": {
      "text/html": [
       "<div>\n",
       "<style scoped>\n",
       "    .dataframe tbody tr th:only-of-type {\n",
       "        vertical-align: middle;\n",
       "    }\n",
       "\n",
       "    .dataframe tbody tr th {\n",
       "        vertical-align: top;\n",
       "    }\n",
       "\n",
       "    .dataframe thead th {\n",
       "        text-align: right;\n",
       "    }\n",
       "</style>\n",
       "<table border=\"1\" class=\"dataframe\">\n",
       "  <thead>\n",
       "    <tr style=\"text-align: right;\">\n",
       "      <th></th>\n",
       "      <th>property_type</th>\n",
       "      <th>society</th>\n",
       "      <th>sector</th>\n",
       "      <th>price</th>\n",
       "      <th>price_per_sqft</th>\n",
       "      <th>bedRoom</th>\n",
       "      <th>bathroom</th>\n",
       "      <th>balcony</th>\n",
       "      <th>floorNum</th>\n",
       "      <th>facing</th>\n",
       "      <th>agePossession</th>\n",
       "      <th>built_up_area</th>\n",
       "      <th>study room</th>\n",
       "      <th>servant room</th>\n",
       "      <th>store room</th>\n",
       "      <th>pooja room</th>\n",
       "      <th>others room</th>\n",
       "      <th>furnishing_type</th>\n",
       "      <th>luxury_score</th>\n",
       "    </tr>\n",
       "  </thead>\n",
       "  <tbody>\n",
       "    <tr>\n",
       "      <th>1294</th>\n",
       "      <td>house</td>\n",
       "      <td>independent</td>\n",
       "      <td>sector 3</td>\n",
       "      <td>1.50</td>\n",
       "      <td>10288.0</td>\n",
       "      <td>3</td>\n",
       "      <td>3</td>\n",
       "      <td>0</td>\n",
       "      <td>NaN</td>\n",
       "      <td>NaN</td>\n",
       "      <td>Undefined</td>\n",
       "      <td>210.0</td>\n",
       "      <td>0</td>\n",
       "      <td>0</td>\n",
       "      <td>0</td>\n",
       "      <td>0</td>\n",
       "      <td>0</td>\n",
       "      <td>1</td>\n",
       "      <td>0</td>\n",
       "    </tr>\n",
       "    <tr>\n",
       "      <th>1946</th>\n",
       "      <td>house</td>\n",
       "      <td>jacob pura</td>\n",
       "      <td>sector 12</td>\n",
       "      <td>0.35</td>\n",
       "      <td>9722.0</td>\n",
       "      <td>2</td>\n",
       "      <td>1</td>\n",
       "      <td>0</td>\n",
       "      <td>NaN</td>\n",
       "      <td>NaN</td>\n",
       "      <td>Undefined</td>\n",
       "      <td>360.0</td>\n",
       "      <td>0</td>\n",
       "      <td>0</td>\n",
       "      <td>0</td>\n",
       "      <td>0</td>\n",
       "      <td>0</td>\n",
       "      <td>1</td>\n",
       "      <td>0</td>\n",
       "    </tr>\n",
       "    <tr>\n",
       "      <th>2271</th>\n",
       "      <td>house</td>\n",
       "      <td>emaar mgf marbella</td>\n",
       "      <td>sector 66</td>\n",
       "      <td>9.00</td>\n",
       "      <td>21251.0</td>\n",
       "      <td>4</td>\n",
       "      <td>4</td>\n",
       "      <td>3+</td>\n",
       "      <td>NaN</td>\n",
       "      <td>South-West</td>\n",
       "      <td>Relatively New</td>\n",
       "      <td>5200.0</td>\n",
       "      <td>0</td>\n",
       "      <td>1</td>\n",
       "      <td>1</td>\n",
       "      <td>1</td>\n",
       "      <td>0</td>\n",
       "      <td>2</td>\n",
       "      <td>114</td>\n",
       "    </tr>\n",
       "    <tr>\n",
       "      <th>2439</th>\n",
       "      <td>house</td>\n",
       "      <td>dlf new town heights</td>\n",
       "      <td>sector 86</td>\n",
       "      <td>2.47</td>\n",
       "      <td>7719.0</td>\n",
       "      <td>4</td>\n",
       "      <td>4</td>\n",
       "      <td>3+</td>\n",
       "      <td>NaN</td>\n",
       "      <td>West</td>\n",
       "      <td>Moderately Old</td>\n",
       "      <td>2800.0</td>\n",
       "      <td>0</td>\n",
       "      <td>1</td>\n",
       "      <td>0</td>\n",
       "      <td>1</td>\n",
       "      <td>0</td>\n",
       "      <td>2</td>\n",
       "      <td>130</td>\n",
       "    </tr>\n",
       "    <tr>\n",
       "      <th>2536</th>\n",
       "      <td>flat</td>\n",
       "      <td>NaN</td>\n",
       "      <td>sector 78</td>\n",
       "      <td>0.60</td>\n",
       "      <td>3692.0</td>\n",
       "      <td>2</td>\n",
       "      <td>2</td>\n",
       "      <td>0</td>\n",
       "      <td>NaN</td>\n",
       "      <td>NaN</td>\n",
       "      <td>Under Construction</td>\n",
       "      <td>1625.0</td>\n",
       "      <td>0</td>\n",
       "      <td>0</td>\n",
       "      <td>0</td>\n",
       "      <td>0</td>\n",
       "      <td>0</td>\n",
       "      <td>1</td>\n",
       "      <td>0</td>\n",
       "    </tr>\n",
       "    <tr>\n",
       "      <th>3214</th>\n",
       "      <td>flat</td>\n",
       "      <td>experion heartsong</td>\n",
       "      <td>dwarka expressway</td>\n",
       "      <td>1.08</td>\n",
       "      <td>6150.0</td>\n",
       "      <td>3</td>\n",
       "      <td>3</td>\n",
       "      <td>0</td>\n",
       "      <td>NaN</td>\n",
       "      <td>NaN</td>\n",
       "      <td>Under Construction</td>\n",
       "      <td>1758.0</td>\n",
       "      <td>0</td>\n",
       "      <td>0</td>\n",
       "      <td>0</td>\n",
       "      <td>0</td>\n",
       "      <td>0</td>\n",
       "      <td>1</td>\n",
       "      <td>0</td>\n",
       "    </tr>\n",
       "  </tbody>\n",
       "</table>\n",
       "</div>"
      ],
      "text/plain": [
       "     property_type               society             sector  price  \\\n",
       "1294         house           independent           sector 3   1.50   \n",
       "1946         house            jacob pura          sector 12   0.35   \n",
       "2271         house    emaar mgf marbella          sector 66   9.00   \n",
       "2439         house  dlf new town heights          sector 86   2.47   \n",
       "2536          flat                   NaN          sector 78   0.60   \n",
       "3214          flat    experion heartsong  dwarka expressway   1.08   \n",
       "\n",
       "      price_per_sqft  bedRoom  bathroom balcony  floorNum      facing  \\\n",
       "1294         10288.0        3         3       0       NaN         NaN   \n",
       "1946          9722.0        2         1       0       NaN         NaN   \n",
       "2271         21251.0        4         4      3+       NaN  South-West   \n",
       "2439          7719.0        4         4      3+       NaN        West   \n",
       "2536          3692.0        2         2       0       NaN         NaN   \n",
       "3214          6150.0        3         3       0       NaN         NaN   \n",
       "\n",
       "           agePossession  built_up_area  study room  servant room  store room  \\\n",
       "1294           Undefined          210.0           0             0           0   \n",
       "1946           Undefined          360.0           0             0           0   \n",
       "2271      Relatively New         5200.0           0             1           1   \n",
       "2439      Moderately Old         2800.0           0             1           0   \n",
       "2536  Under Construction         1625.0           0             0           0   \n",
       "3214  Under Construction         1758.0           0             0           0   \n",
       "\n",
       "      pooja room  others room  furnishing_type  luxury_score  \n",
       "1294           0            0                1             0  \n",
       "1946           0            0                1             0  \n",
       "2271           1            0                2           114  \n",
       "2439           1            0                2           130  \n",
       "2536           0            0                1             0  \n",
       "3214           0            0                1             0  "
      ]
     },
     "execution_count": 46,
     "metadata": {},
     "output_type": "execute_result"
    }
   ],
   "source": [
    "df[df['floorNum'].isnull()]"
   ]
  },
  {
   "cell_type": "code",
   "execution_count": 47,
   "id": "449c4389-23dc-4471-afa8-8e7f9b178541",
   "metadata": {},
   "outputs": [
    {
     "data": {
      "text/plain": [
       "2.0"
      ]
     },
     "execution_count": 47,
     "metadata": {},
     "output_type": "execute_result"
    }
   ],
   "source": [
    "df[df['property_type'] == 'house']['floorNum'].median()"
   ]
  },
  {
   "cell_type": "code",
   "execution_count": 48,
   "id": "99c86f94-f983-49a3-ba62-f8093fab81e1",
   "metadata": {},
   "outputs": [
    {
     "name": "stderr",
     "output_type": "stream",
     "text": [
      "C:\\Users\\parth\\AppData\\Local\\Temp\\ipykernel_5152\\3175433704.py:1: FutureWarning: A value is trying to be set on a copy of a DataFrame or Series through chained assignment using an inplace method.\n",
      "The behavior will change in pandas 3.0. This inplace method will never work because the intermediate object on which we are setting values always behaves as a copy.\n",
      "\n",
      "For example, when doing 'df[col].method(value, inplace=True)', try using 'df.method({col: value}, inplace=True)' or df[col] = df[col].method(value) instead, to perform the operation inplace on the original object.\n",
      "\n",
      "\n",
      "  df['floorNum'].fillna(2.0, inplace = True)\n"
     ]
    }
   ],
   "source": [
    "df['floorNum'].fillna(2.0, inplace = True)"
   ]
  },
  {
   "cell_type": "code",
   "execution_count": 49,
   "id": "d57f216c-8c19-4373-b5e6-03b944b3dbc9",
   "metadata": {},
   "outputs": [
    {
     "data": {
      "text/plain": [
       "property_type        0\n",
       "society              1\n",
       "sector               0\n",
       "price                0\n",
       "price_per_sqft       0\n",
       "bedRoom              0\n",
       "bathroom             0\n",
       "balcony              0\n",
       "floorNum             0\n",
       "facing             904\n",
       "agePossession        0\n",
       "built_up_area        0\n",
       "study room           0\n",
       "servant room         0\n",
       "store room           0\n",
       "pooja room           0\n",
       "others room          0\n",
       "furnishing_type      0\n",
       "luxury_score         0\n",
       "dtype: int64"
      ]
     },
     "execution_count": 49,
     "metadata": {},
     "output_type": "execute_result"
    }
   ],
   "source": [
    "df.isnull().sum()"
   ]
  },
  {
   "cell_type": "code",
   "execution_count": null,
   "id": "7807db55-a3ca-429e-bb28-a9845d21da3d",
   "metadata": {},
   "outputs": [],
   "source": []
  },
  {
   "cell_type": "markdown",
   "id": "7f569759-ac05-4b95-9d6e-a3bfcd585053",
   "metadata": {},
   "source": [
    "# facing "
   ]
  },
  {
   "cell_type": "code",
   "execution_count": 50,
   "id": "45f343c8-c924-419a-b3b4-8915aa737be6",
   "metadata": {},
   "outputs": [
    {
     "data": {
      "text/plain": [
       "<Axes: ylabel='count'>"
      ]
     },
     "execution_count": 50,
     "metadata": {},
     "output_type": "execute_result"
    },
    {
     "data": {
      "image/png": "[encoded data removed]",
      "text/plain": [
       "<Figure size 640x480 with 1 Axes>"
      ]
     },
     "metadata": {},
     "output_type": "display_data"
    }
   ],
   "source": [
    "df['facing'].value_counts().plot(kind = 'pie', autopct = '%0.2f%%')"
   ]
  },
  {
   "cell_type": "code",
   "execution_count": 51,
   "id": "30524bb3-ca42-463d-9bcc-a470d9a8fcd6",
   "metadata": {},
   "outputs": [],
   "source": [
    "df.drop(columns = ['facing'], inplace = True)"
   ]
  },
  {
   "cell_type": "code",
   "execution_count": 52,
   "id": "44df309e-9255-46ee-b43f-aaf91dbf968e",
   "metadata": {},
   "outputs": [
    {
     "data": {
      "text/html": [
       "<div>\n",
       "<style scoped>\n",
       "    .dataframe tbody tr th:only-of-type {\n",
       "        vertical-align: middle;\n",
       "    }\n",
       "\n",
       "    .dataframe tbody tr th {\n",
       "        vertical-align: top;\n",
       "    }\n",
       "\n",
       "    .dataframe thead th {\n",
       "        text-align: right;\n",
       "    }\n",
       "</style>\n",
       "<table border=\"1\" class=\"dataframe\">\n",
       "  <thead>\n",
       "    <tr style=\"text-align: right;\">\n",
       "      <th></th>\n",
       "      <th>property_type</th>\n",
       "      <th>society</th>\n",
       "      <th>sector</th>\n",
       "      <th>price</th>\n",
       "      <th>price_per_sqft</th>\n",
       "      <th>bedRoom</th>\n",
       "      <th>bathroom</th>\n",
       "      <th>balcony</th>\n",
       "      <th>floorNum</th>\n",
       "      <th>agePossession</th>\n",
       "      <th>built_up_area</th>\n",
       "      <th>study room</th>\n",
       "      <th>servant room</th>\n",
       "      <th>store room</th>\n",
       "      <th>pooja room</th>\n",
       "      <th>others room</th>\n",
       "      <th>furnishing_type</th>\n",
       "      <th>luxury_score</th>\n",
       "    </tr>\n",
       "  </thead>\n",
       "  <tbody>\n",
       "    <tr>\n",
       "      <th>155</th>\n",
       "      <td>flat</td>\n",
       "      <td>godrej icon</td>\n",
       "      <td>sector 88a</td>\n",
       "      <td>1.65</td>\n",
       "      <td>9041.0</td>\n",
       "      <td>3</td>\n",
       "      <td>3</td>\n",
       "      <td>3</td>\n",
       "      <td>12.0</td>\n",
       "      <td>New Property</td>\n",
       "      <td>1652.0</td>\n",
       "      <td>0</td>\n",
       "      <td>0</td>\n",
       "      <td>0</td>\n",
       "      <td>0</td>\n",
       "      <td>0</td>\n",
       "      <td>1</td>\n",
       "      <td>60</td>\n",
       "    </tr>\n",
       "    <tr>\n",
       "      <th>2643</th>\n",
       "      <td>flat</td>\n",
       "      <td>parkwood westend</td>\n",
       "      <td>sector 92</td>\n",
       "      <td>0.70</td>\n",
       "      <td>5204.0</td>\n",
       "      <td>2</td>\n",
       "      <td>2</td>\n",
       "      <td>3</td>\n",
       "      <td>5.0</td>\n",
       "      <td>Under Construction</td>\n",
       "      <td>1217.0</td>\n",
       "      <td>1</td>\n",
       "      <td>0</td>\n",
       "      <td>0</td>\n",
       "      <td>0</td>\n",
       "      <td>0</td>\n",
       "      <td>1</td>\n",
       "      <td>0</td>\n",
       "    </tr>\n",
       "    <tr>\n",
       "      <th>3321</th>\n",
       "      <td>flat</td>\n",
       "      <td>la vida by tata housing</td>\n",
       "      <td>sector 113</td>\n",
       "      <td>3.72</td>\n",
       "      <td>13985.0</td>\n",
       "      <td>5</td>\n",
       "      <td>4</td>\n",
       "      <td>3+</td>\n",
       "      <td>0.0</td>\n",
       "      <td>New Property</td>\n",
       "      <td>2956.0</td>\n",
       "      <td>0</td>\n",
       "      <td>0</td>\n",
       "      <td>0</td>\n",
       "      <td>1</td>\n",
       "      <td>0</td>\n",
       "      <td>0</td>\n",
       "      <td>44</td>\n",
       "    </tr>\n",
       "    <tr>\n",
       "      <th>3531</th>\n",
       "      <td>flat</td>\n",
       "      <td>dlf new town heights</td>\n",
       "      <td>sector 86</td>\n",
       "      <td>1.26</td>\n",
       "      <td>6114.0</td>\n",
       "      <td>3</td>\n",
       "      <td>3</td>\n",
       "      <td>3</td>\n",
       "      <td>5.0</td>\n",
       "      <td>Moderately Old</td>\n",
       "      <td>1747.0</td>\n",
       "      <td>0</td>\n",
       "      <td>1</td>\n",
       "      <td>0</td>\n",
       "      <td>0</td>\n",
       "      <td>0</td>\n",
       "      <td>1</td>\n",
       "      <td>113</td>\n",
       "    </tr>\n",
       "    <tr>\n",
       "      <th>1139</th>\n",
       "      <td>flat</td>\n",
       "      <td>emaar mgf the palm drive</td>\n",
       "      <td>sector 66</td>\n",
       "      <td>3.20</td>\n",
       "      <td>17778.0</td>\n",
       "      <td>3</td>\n",
       "      <td>3</td>\n",
       "      <td>3</td>\n",
       "      <td>12.0</td>\n",
       "      <td>Relatively New</td>\n",
       "      <td>1800.0</td>\n",
       "      <td>1</td>\n",
       "      <td>1</td>\n",
       "      <td>1</td>\n",
       "      <td>1</td>\n",
       "      <td>0</td>\n",
       "      <td>1</td>\n",
       "      <td>117</td>\n",
       "    </tr>\n",
       "  </tbody>\n",
       "</table>\n",
       "</div>"
      ],
      "text/plain": [
       "     property_type                   society      sector  price  \\\n",
       "155           flat               godrej icon  sector 88a   1.65   \n",
       "2643          flat          parkwood westend   sector 92   0.70   \n",
       "3321          flat   la vida by tata housing  sector 113   3.72   \n",
       "3531          flat      dlf new town heights   sector 86   1.26   \n",
       "1139          flat  emaar mgf the palm drive   sector 66   3.20   \n",
       "\n",
       "      price_per_sqft  bedRoom  bathroom balcony  floorNum       agePossession  \\\n",
       "155           9041.0        3         3       3      12.0        New Property   \n",
       "2643          5204.0        2         2       3       5.0  Under Construction   \n",
       "3321         13985.0        5         4      3+       0.0        New Property   \n",
       "3531          6114.0        3         3       3       5.0      Moderately Old   \n",
       "1139         17778.0        3         3       3      12.0      Relatively New   \n",
       "\n",
       "      built_up_area  study room  servant room  store room  pooja room  \\\n",
       "155          1652.0           0             0           0           0   \n",
       "2643         1217.0           1             0           0           0   \n",
       "3321         2956.0           0             0           0           1   \n",
       "3531         1747.0           0             1           0           0   \n",
       "1139         1800.0           1             1           1           1   \n",
       "\n",
       "      others room  furnishing_type  luxury_score  \n",
       "155             0                1            60  \n",
       "2643            0                1             0  \n",
       "3321            0                0            44  \n",
       "3531            0                1           113  \n",
       "1139            0                1           117  "
      ]
     },
     "execution_count": 52,
     "metadata": {},
     "output_type": "execute_result"
    }
   ],
   "source": [
    "df.sample(5)"
   ]
  },
  {
   "cell_type": "code",
   "execution_count": 53,
   "id": "28f56bdf-b709-4096-a97f-0048552e0615",
   "metadata": {},
   "outputs": [
    {
     "data": {
      "text/plain": [
       "property_type      0\n",
       "society            1\n",
       "sector             0\n",
       "price              0\n",
       "price_per_sqft     0\n",
       "bedRoom            0\n",
       "bathroom           0\n",
       "balcony            0\n",
       "floorNum           0\n",
       "agePossession      0\n",
       "built_up_area      0\n",
       "study room         0\n",
       "servant room       0\n",
       "store room         0\n",
       "pooja room         0\n",
       "others room        0\n",
       "furnishing_type    0\n",
       "luxury_score       0\n",
       "dtype: int64"
      ]
     },
     "execution_count": 53,
     "metadata": {},
     "output_type": "execute_result"
    }
   ],
   "source": [
    "df.isnull().sum()"
   ]
  },
  {
   "cell_type": "code",
   "execution_count": null,
   "id": "9fb72f5c-2c8f-4237-ad9d-52bb1ecd2f5b",
   "metadata": {},
   "outputs": [],
   "source": []
  },
  {
   "cell_type": "markdown",
   "id": "2904006f-fcc6-426e-91ba-9973c70da91d",
   "metadata": {},
   "source": [
    "# society"
   ]
  },
  {
   "cell_type": "code",
   "execution_count": 54,
   "id": "47fa53e9-b973-4af4-a811-dffb367094de",
   "metadata": {},
   "outputs": [
    {
     "data": {
      "text/html": [
       "<div>\n",
       "<style scoped>\n",
       "    .dataframe tbody tr th:only-of-type {\n",
       "        vertical-align: middle;\n",
       "    }\n",
       "\n",
       "    .dataframe tbody tr th {\n",
       "        vertical-align: top;\n",
       "    }\n",
       "\n",
       "    .dataframe thead th {\n",
       "        text-align: right;\n",
       "    }\n",
       "</style>\n",
       "<table border=\"1\" class=\"dataframe\">\n",
       "  <thead>\n",
       "    <tr style=\"text-align: right;\">\n",
       "      <th></th>\n",
       "      <th>property_type</th>\n",
       "      <th>society</th>\n",
       "      <th>sector</th>\n",
       "      <th>price</th>\n",
       "      <th>price_per_sqft</th>\n",
       "      <th>bedRoom</th>\n",
       "      <th>bathroom</th>\n",
       "      <th>balcony</th>\n",
       "      <th>floorNum</th>\n",
       "      <th>agePossession</th>\n",
       "      <th>built_up_area</th>\n",
       "      <th>study room</th>\n",
       "      <th>servant room</th>\n",
       "      <th>store room</th>\n",
       "      <th>pooja room</th>\n",
       "      <th>others room</th>\n",
       "      <th>furnishing_type</th>\n",
       "      <th>luxury_score</th>\n",
       "    </tr>\n",
       "  </thead>\n",
       "  <tbody>\n",
       "    <tr>\n",
       "      <th>2536</th>\n",
       "      <td>flat</td>\n",
       "      <td>NaN</td>\n",
       "      <td>sector 78</td>\n",
       "      <td>0.6</td>\n",
       "      <td>3692.0</td>\n",
       "      <td>2</td>\n",
       "      <td>2</td>\n",
       "      <td>0</td>\n",
       "      <td>2.0</td>\n",
       "      <td>Under Construction</td>\n",
       "      <td>1625.0</td>\n",
       "      <td>0</td>\n",
       "      <td>0</td>\n",
       "      <td>0</td>\n",
       "      <td>0</td>\n",
       "      <td>0</td>\n",
       "      <td>1</td>\n",
       "      <td>0</td>\n",
       "    </tr>\n",
       "  </tbody>\n",
       "</table>\n",
       "</div>"
      ],
      "text/plain": [
       "     property_type society     sector  price  price_per_sqft  bedRoom  \\\n",
       "2536          flat     NaN  sector 78    0.6          3692.0        2   \n",
       "\n",
       "      bathroom balcony  floorNum       agePossession  built_up_area  \\\n",
       "2536         2       0       2.0  Under Construction         1625.0   \n",
       "\n",
       "      study room  servant room  store room  pooja room  others room  \\\n",
       "2536           0             0           0           0            0   \n",
       "\n",
       "      furnishing_type  luxury_score  \n",
       "2536                1             0  "
      ]
     },
     "execution_count": 54,
     "metadata": {},
     "output_type": "execute_result"
    }
   ],
   "source": [
    "df[df['society'].isnull()]"
   ]
  },
  {
   "cell_type": "code",
   "execution_count": 55,
   "id": "e46fb17f-17a9-4af1-a3d3-9f85d2b18747",
   "metadata": {},
   "outputs": [],
   "source": [
    "df.drop(index = [2536], inplace = True)"
   ]
  },
  {
   "cell_type": "code",
   "execution_count": 56,
   "id": "6c6822f1-1c3e-47a8-a67c-f62b252fe97d",
   "metadata": {},
   "outputs": [
    {
     "data": {
      "text/plain": [
       "property_type      0\n",
       "society            0\n",
       "sector             0\n",
       "price              0\n",
       "price_per_sqft     0\n",
       "bedRoom            0\n",
       "bathroom           0\n",
       "balcony            0\n",
       "floorNum           0\n",
       "agePossession      0\n",
       "built_up_area      0\n",
       "study room         0\n",
       "servant room       0\n",
       "store room         0\n",
       "pooja room         0\n",
       "others room        0\n",
       "furnishing_type    0\n",
       "luxury_score       0\n",
       "dtype: int64"
      ]
     },
     "execution_count": 56,
     "metadata": {},
     "output_type": "execute_result"
    }
   ],
   "source": [
    "df.isnull().sum()"
   ]
  },
  {
   "cell_type": "code",
   "execution_count": null,
   "id": "5305c02b-b81c-47d9-86e1-d04544e188f4",
   "metadata": {},
   "outputs": [],
   "source": []
  },
  {
   "cell_type": "markdown",
   "id": "68bd70ef-5813-4af1-b5b1-e11757ea2439",
   "metadata": {},
   "source": [
    "# agePossession"
   ]
  },
  {
   "cell_type": "code",
   "execution_count": 57,
   "id": "4a5cd724-b684-4066-99f3-4e1d11b765ae",
   "metadata": {},
   "outputs": [
    {
     "data": {
      "text/plain": [
       "agePossession\n",
       "Relatively New        1494\n",
       "New Property           486\n",
       "Undefined              467\n",
       "Moderately Old         380\n",
       "Under Construction     254\n",
       "Name: count, dtype: int64"
      ]
     },
     "execution_count": 57,
     "metadata": {},
     "output_type": "execute_result"
    }
   ],
   "source": [
    "df['agePossession'].value_counts()"
   ]
  },
  {
   "cell_type": "code",
   "execution_count": 58,
   "id": "58b7180e-1585-4d02-a5c8-701a64cebae3",
   "metadata": {},
   "outputs": [
    {
     "data": {
      "text/html": [
       "<div>\n",
       "<style scoped>\n",
       "    .dataframe tbody tr th:only-of-type {\n",
       "        vertical-align: middle;\n",
       "    }\n",
       "\n",
       "    .dataframe tbody tr th {\n",
       "        vertical-align: top;\n",
       "    }\n",
       "\n",
       "    .dataframe thead th {\n",
       "        text-align: right;\n",
       "    }\n",
       "</style>\n",
       "<table border=\"1\" class=\"dataframe\">\n",
       "  <thead>\n",
       "    <tr style=\"text-align: right;\">\n",
       "      <th></th>\n",
       "      <th>property_type</th>\n",
       "      <th>society</th>\n",
       "      <th>sector</th>\n",
       "      <th>price</th>\n",
       "      <th>price_per_sqft</th>\n",
       "      <th>bedRoom</th>\n",
       "      <th>bathroom</th>\n",
       "      <th>balcony</th>\n",
       "      <th>floorNum</th>\n",
       "      <th>agePossession</th>\n",
       "      <th>built_up_area</th>\n",
       "      <th>study room</th>\n",
       "      <th>servant room</th>\n",
       "      <th>store room</th>\n",
       "      <th>pooja room</th>\n",
       "      <th>others room</th>\n",
       "      <th>furnishing_type</th>\n",
       "      <th>luxury_score</th>\n",
       "    </tr>\n",
       "  </thead>\n",
       "  <tbody>\n",
       "    <tr>\n",
       "      <th>10</th>\n",
       "      <td>house</td>\n",
       "      <td>independent</td>\n",
       "      <td>sector 109</td>\n",
       "      <td>1.55</td>\n",
       "      <td>6568.0</td>\n",
       "      <td>3</td>\n",
       "      <td>2</td>\n",
       "      <td>0</td>\n",
       "      <td>1.0</td>\n",
       "      <td>Undefined</td>\n",
       "      <td>2360.0</td>\n",
       "      <td>0</td>\n",
       "      <td>0</td>\n",
       "      <td>0</td>\n",
       "      <td>0</td>\n",
       "      <td>0</td>\n",
       "      <td>1</td>\n",
       "      <td>0</td>\n",
       "    </tr>\n",
       "    <tr>\n",
       "      <th>19</th>\n",
       "      <td>flat</td>\n",
       "      <td>afnhb jalvayu vihar</td>\n",
       "      <td>sector 30</td>\n",
       "      <td>0.85</td>\n",
       "      <td>12859.0</td>\n",
       "      <td>2</td>\n",
       "      <td>2</td>\n",
       "      <td>1</td>\n",
       "      <td>2.0</td>\n",
       "      <td>Undefined</td>\n",
       "      <td>734.0</td>\n",
       "      <td>0</td>\n",
       "      <td>0</td>\n",
       "      <td>0</td>\n",
       "      <td>0</td>\n",
       "      <td>0</td>\n",
       "      <td>2</td>\n",
       "      <td>49</td>\n",
       "    </tr>\n",
       "    <tr>\n",
       "      <th>25</th>\n",
       "      <td>flat</td>\n",
       "      <td>chanderlok society</td>\n",
       "      <td>sector 28</td>\n",
       "      <td>0.90</td>\n",
       "      <td>7235.0</td>\n",
       "      <td>4</td>\n",
       "      <td>2</td>\n",
       "      <td>3+</td>\n",
       "      <td>1.0</td>\n",
       "      <td>Undefined</td>\n",
       "      <td>1382.0</td>\n",
       "      <td>0</td>\n",
       "      <td>0</td>\n",
       "      <td>0</td>\n",
       "      <td>0</td>\n",
       "      <td>0</td>\n",
       "      <td>1</td>\n",
       "      <td>0</td>\n",
       "    </tr>\n",
       "    <tr>\n",
       "      <th>33</th>\n",
       "      <td>house</td>\n",
       "      <td>greenopolis</td>\n",
       "      <td>sector 89</td>\n",
       "      <td>0.70</td>\n",
       "      <td>5397.0</td>\n",
       "      <td>2</td>\n",
       "      <td>2</td>\n",
       "      <td>2</td>\n",
       "      <td>14.0</td>\n",
       "      <td>Undefined</td>\n",
       "      <td>1297.0</td>\n",
       "      <td>0</td>\n",
       "      <td>0</td>\n",
       "      <td>0</td>\n",
       "      <td>0</td>\n",
       "      <td>0</td>\n",
       "      <td>1</td>\n",
       "      <td>0</td>\n",
       "    </tr>\n",
       "    <tr>\n",
       "      <th>48</th>\n",
       "      <td>flat</td>\n",
       "      <td>smart world gems</td>\n",
       "      <td>sector 89</td>\n",
       "      <td>1.71</td>\n",
       "      <td>12000.0</td>\n",
       "      <td>3</td>\n",
       "      <td>2</td>\n",
       "      <td>0</td>\n",
       "      <td>3.0</td>\n",
       "      <td>Undefined</td>\n",
       "      <td>1423.0</td>\n",
       "      <td>0</td>\n",
       "      <td>0</td>\n",
       "      <td>0</td>\n",
       "      <td>0</td>\n",
       "      <td>0</td>\n",
       "      <td>1</td>\n",
       "      <td>45</td>\n",
       "    </tr>\n",
       "    <tr>\n",
       "      <th>...</th>\n",
       "      <td>...</td>\n",
       "      <td>...</td>\n",
       "      <td>...</td>\n",
       "      <td>...</td>\n",
       "      <td>...</td>\n",
       "      <td>...</td>\n",
       "      <td>...</td>\n",
       "      <td>...</td>\n",
       "      <td>...</td>\n",
       "      <td>...</td>\n",
       "      <td>...</td>\n",
       "      <td>...</td>\n",
       "      <td>...</td>\n",
       "      <td>...</td>\n",
       "      <td>...</td>\n",
       "      <td>...</td>\n",
       "      <td>...</td>\n",
       "      <td>...</td>\n",
       "    </tr>\n",
       "    <tr>\n",
       "      <th>3508</th>\n",
       "      <td>house</td>\n",
       "      <td>independent</td>\n",
       "      <td>sector 21</td>\n",
       "      <td>0.45</td>\n",
       "      <td>8411.0</td>\n",
       "      <td>3</td>\n",
       "      <td>2</td>\n",
       "      <td>1</td>\n",
       "      <td>1.0</td>\n",
       "      <td>Undefined</td>\n",
       "      <td>594.0</td>\n",
       "      <td>0</td>\n",
       "      <td>0</td>\n",
       "      <td>0</td>\n",
       "      <td>0</td>\n",
       "      <td>0</td>\n",
       "      <td>1</td>\n",
       "      <td>0</td>\n",
       "    </tr>\n",
       "    <tr>\n",
       "      <th>3511</th>\n",
       "      <td>flat</td>\n",
       "      <td>kiran residency</td>\n",
       "      <td>sector 56</td>\n",
       "      <td>1.55</td>\n",
       "      <td>7750.0</td>\n",
       "      <td>3</td>\n",
       "      <td>3</td>\n",
       "      <td>3+</td>\n",
       "      <td>5.0</td>\n",
       "      <td>Undefined</td>\n",
       "      <td>1800.0</td>\n",
       "      <td>0</td>\n",
       "      <td>1</td>\n",
       "      <td>0</td>\n",
       "      <td>1</td>\n",
       "      <td>0</td>\n",
       "      <td>1</td>\n",
       "      <td>166</td>\n",
       "    </tr>\n",
       "    <tr>\n",
       "      <th>3520</th>\n",
       "      <td>flat</td>\n",
       "      <td>sidhartha ncr one</td>\n",
       "      <td>sector 95</td>\n",
       "      <td>0.57</td>\n",
       "      <td>4179.0</td>\n",
       "      <td>2</td>\n",
       "      <td>2</td>\n",
       "      <td>2</td>\n",
       "      <td>10.0</td>\n",
       "      <td>Undefined</td>\n",
       "      <td>1364.0</td>\n",
       "      <td>0</td>\n",
       "      <td>0</td>\n",
       "      <td>0</td>\n",
       "      <td>0</td>\n",
       "      <td>0</td>\n",
       "      <td>1</td>\n",
       "      <td>0</td>\n",
       "    </tr>\n",
       "    <tr>\n",
       "      <th>3540</th>\n",
       "      <td>flat</td>\n",
       "      <td>vipul belmonte</td>\n",
       "      <td>sector 53</td>\n",
       "      <td>6.50</td>\n",
       "      <td>21922.0</td>\n",
       "      <td>3</td>\n",
       "      <td>4</td>\n",
       "      <td>3+</td>\n",
       "      <td>0.0</td>\n",
       "      <td>Undefined</td>\n",
       "      <td>2683.0</td>\n",
       "      <td>1</td>\n",
       "      <td>0</td>\n",
       "      <td>0</td>\n",
       "      <td>0</td>\n",
       "      <td>0</td>\n",
       "      <td>1</td>\n",
       "      <td>72</td>\n",
       "    </tr>\n",
       "    <tr>\n",
       "      <th>3549</th>\n",
       "      <td>house</td>\n",
       "      <td>surendra homes dayaindependentd colony</td>\n",
       "      <td>sector 6</td>\n",
       "      <td>0.75</td>\n",
       "      <td>15625.0</td>\n",
       "      <td>4</td>\n",
       "      <td>4</td>\n",
       "      <td>2</td>\n",
       "      <td>1.0</td>\n",
       "      <td>Undefined</td>\n",
       "      <td>480.0</td>\n",
       "      <td>0</td>\n",
       "      <td>0</td>\n",
       "      <td>0</td>\n",
       "      <td>0</td>\n",
       "      <td>0</td>\n",
       "      <td>1</td>\n",
       "      <td>0</td>\n",
       "    </tr>\n",
       "  </tbody>\n",
       "</table>\n",
       "<p>467 rows × 18 columns</p>\n",
       "</div>"
      ],
      "text/plain": [
       "     property_type                                 society      sector  price  \\\n",
       "10           house                             independent  sector 109   1.55   \n",
       "19            flat                     afnhb jalvayu vihar   sector 30   0.85   \n",
       "25            flat                      chanderlok society   sector 28   0.90   \n",
       "33           house                             greenopolis   sector 89   0.70   \n",
       "48            flat                        smart world gems   sector 89   1.71   \n",
       "...            ...                                     ...         ...    ...   \n",
       "3508         house                             independent   sector 21   0.45   \n",
       "3511          flat                         kiran residency   sector 56   1.55   \n",
       "3520          flat                       sidhartha ncr one   sector 95   0.57   \n",
       "3540          flat                          vipul belmonte   sector 53   6.50   \n",
       "3549         house  surendra homes dayaindependentd colony    sector 6   0.75   \n",
       "\n",
       "      price_per_sqft  bedRoom  bathroom balcony  floorNum agePossession  \\\n",
       "10            6568.0        3         2       0       1.0     Undefined   \n",
       "19           12859.0        2         2       1       2.0     Undefined   \n",
       "25            7235.0        4         2      3+       1.0     Undefined   \n",
       "33            5397.0        2         2       2      14.0     Undefined   \n",
       "48           12000.0        3         2       0       3.0     Undefined   \n",
       "...              ...      ...       ...     ...       ...           ...   \n",
       "3508          8411.0        3         2       1       1.0     Undefined   \n",
       "3511          7750.0        3         3      3+       5.0     Undefined   \n",
       "3520          4179.0        2         2       2      10.0     Undefined   \n",
       "3540         21922.0        3         4      3+       0.0     Undefined   \n",
       "3549         15625.0        4         4       2       1.0     Undefined   \n",
       "\n",
       "      built_up_area  study room  servant room  store room  pooja room  \\\n",
       "10           2360.0           0             0           0           0   \n",
       "19            734.0           0             0           0           0   \n",
       "25           1382.0           0             0           0           0   \n",
       "33           1297.0           0             0           0           0   \n",
       "48           1423.0           0             0           0           0   \n",
       "...             ...         ...           ...         ...         ...   \n",
       "3508          594.0           0             0           0           0   \n",
       "3511         1800.0           0             1           0           1   \n",
       "3520         1364.0           0             0           0           0   \n",
       "3540         2683.0           1             0           0           0   \n",
       "3549          480.0           0             0           0           0   \n",
       "\n",
       "      others room  furnishing_type  luxury_score  \n",
       "10              0                1             0  \n",
       "19              0                2            49  \n",
       "25              0                1             0  \n",
       "33              0                1             0  \n",
       "48              0                1            45  \n",
       "...           ...              ...           ...  \n",
       "3508            0                1             0  \n",
       "3511            0                1           166  \n",
       "3520            0                1             0  \n",
       "3540            0                1            72  \n",
       "3549            0                1             0  \n",
       "\n",
       "[467 rows x 18 columns]"
      ]
     },
     "execution_count": 58,
     "metadata": {},
     "output_type": "execute_result"
    }
   ],
   "source": [
    "df[df['agePossession'] == 'Undefined']"
   ]
  },
  {
   "cell_type": "code",
   "execution_count": 59,
   "id": "997c47a3-2c7a-4681-9345-413f0b5ea122",
   "metadata": {},
   "outputs": [],
   "source": [
    "def mode_based_imputation(row):\n",
    "    if row['agePossession'] == 'Undefined':\n",
    "        mode_value = df[(df['sector'] == row['sector']) & (df['property_type'] == row['property_type'])]['agePossession'].mode()\n",
    "\n",
    "        if not mode_value.empty:\n",
    "            return mode_value.iloc[0]\n",
    "        else:\n",
    "            return np.nan\n",
    "    else:\n",
    "        return row['agePossession']"
   ]
  },
  {
   "cell_type": "code",
   "execution_count": 60,
   "id": "6807ca3c-0e76-4a88-bbac-30ca02b342f7",
   "metadata": {},
   "outputs": [],
   "source": [
    "df['agePossession'] = df.apply(mode_based_imputation, axis = 1)"
   ]
  },
  {
   "cell_type": "code",
   "execution_count": 61,
   "id": "80fe9f77-2de5-48dc-8ac6-977b1e38aa7f",
   "metadata": {},
   "outputs": [
    {
     "data": {
      "text/plain": [
       "agePossession\n",
       "Relatively New        1620\n",
       "New Property           522\n",
       "Moderately Old         436\n",
       "Under Construction     290\n",
       "Undefined              213\n",
       "Name: count, dtype: int64"
      ]
     },
     "execution_count": 61,
     "metadata": {},
     "output_type": "execute_result"
    }
   ],
   "source": [
    "df['agePossession'].value_counts()"
   ]
  },
  {
   "cell_type": "code",
   "execution_count": 62,
   "id": "505d80e0-0427-4568-97a9-9a28af914e60",
   "metadata": {},
   "outputs": [],
   "source": [
    "def mode_based_imputation2(row):\n",
    "    if row['agePossession'] == 'Undefined':\n",
    "        mode_value = df[(df['sector'] == row['sector'])]['agePossession'].mode()\n",
    "\n",
    "        if not mode_value.empty:\n",
    "            return mode_value.iloc[0]\n",
    "        else:\n",
    "            return np.nan\n",
    "    else:\n",
    "        return row['agePossession']"
   ]
  },
  {
   "cell_type": "code",
   "execution_count": 63,
   "id": "71b5f928-3855-414f-af53-3d6ce0b57eae",
   "metadata": {},
   "outputs": [],
   "source": [
    "df['agePossession'] = df.apply(mode_based_imputation2, axis = 1)"
   ]
  },
  {
   "cell_type": "code",
   "execution_count": 64,
   "id": "972da3cd-863a-4473-a30b-72b8addd0a55",
   "metadata": {},
   "outputs": [
    {
     "data": {
      "text/plain": [
       "agePossession\n",
       "Relatively New        1656\n",
       "New Property           529\n",
       "Moderately Old         467\n",
       "Under Construction     291\n",
       "Undefined              138\n",
       "Name: count, dtype: int64"
      ]
     },
     "execution_count": 64,
     "metadata": {},
     "output_type": "execute_result"
    }
   ],
   "source": [
    "df['agePossession'].value_counts()"
   ]
  },
  {
   "cell_type": "code",
   "execution_count": 65,
   "id": "e04a1f0b-6ee0-42d5-8c9e-6aff582f0a66",
   "metadata": {},
   "outputs": [],
   "source": [
    "def mode_based_imputation3(row):\n",
    "    if row['agePossession'] == 'Undefined':\n",
    "        mode_value = df[(df['property_type'] == row['property_type'])]['agePossession'].mode()\n",
    "\n",
    "        if not mode_value.empty:\n",
    "            return mode_value.iloc[0]\n",
    "        else:\n",
    "            return np.nan\n",
    "    else:\n",
    "        return row['agePossession']"
   ]
  },
  {
   "cell_type": "code",
   "execution_count": 66,
   "id": "84a5d1e3-34f5-4956-b2cb-d440e89d50ac",
   "metadata": {},
   "outputs": [],
   "source": [
    "df['agePossession'] = df.apply(mode_based_imputation3, axis = 1)"
   ]
  },
  {
   "cell_type": "code",
   "execution_count": 67,
   "id": "872dc20b-0cb5-4e5b-8cf5-34077aaa6bb8",
   "metadata": {},
   "outputs": [
    {
     "data": {
      "text/plain": [
       "agePossession\n",
       "Relatively New        1794\n",
       "New Property           529\n",
       "Moderately Old         467\n",
       "Under Construction     291\n",
       "Name: count, dtype: int64"
      ]
     },
     "execution_count": 67,
     "metadata": {},
     "output_type": "execute_result"
    }
   ],
   "source": [
    "df['agePossession'].value_counts()"
   ]
  },
  {
   "cell_type": "code",
   "execution_count": 68,
   "id": "6900de04-6224-4382-82cd-24773a6b081c",
   "metadata": {},
   "outputs": [
    {
     "data": {
      "text/plain": [
       "property_type      0\n",
       "society            0\n",
       "sector             0\n",
       "price              0\n",
       "price_per_sqft     0\n",
       "bedRoom            0\n",
       "bathroom           0\n",
       "balcony            0\n",
       "floorNum           0\n",
       "agePossession      0\n",
       "built_up_area      0\n",
       "study room         0\n",
       "servant room       0\n",
       "store room         0\n",
       "pooja room         0\n",
       "others room        0\n",
       "furnishing_type    0\n",
       "luxury_score       0\n",
       "dtype: int64"
      ]
     },
     "execution_count": 68,
     "metadata": {},
     "output_type": "execute_result"
    }
   ],
   "source": [
    "df.isnull().sum()"
   ]
  },
  {
   "cell_type": "code",
   "execution_count": 69,
   "id": "07c58a35-9fad-4f65-87cf-1d6d65fa501e",
   "metadata": {},
   "outputs": [
    {
     "name": "stdout",
     "output_type": "stream",
     "text": [
      "<class 'pandas.core.frame.DataFrame'>\n",
      "Index: 3081 entries, 0 to 3554\n",
      "Data columns (total 18 columns):\n",
      " #   Column           Non-Null Count  Dtype  \n",
      "---  ------           --------------  -----  \n",
      " 0   property_type    3081 non-null   object \n",
      " 1   society          3081 non-null   object \n",
      " 2   sector           3081 non-null   object \n",
      " 3   price            3081 non-null   float64\n",
      " 4   price_per_sqft   3081 non-null   float64\n",
      " 5   bedRoom          3081 non-null   int64  \n",
      " 6   bathroom         3081 non-null   int64  \n",
      " 7   balcony          3081 non-null   object \n",
      " 8   floorNum         3081 non-null   float64\n",
      " 9   agePossession    3081 non-null   object \n",
      " 10  built_up_area    3081 non-null   float64\n",
      " 11  study room       3081 non-null   int64  \n",
      " 12  servant room     3081 non-null   int64  \n",
      " 13  store room       3081 non-null   int64  \n",
      " 14  pooja room       3081 non-null   int64  \n",
      " 15  others room      3081 non-null   int64  \n",
      " 16  furnishing_type  3081 non-null   int64  \n",
      " 17  luxury_score     3081 non-null   int64  \n",
      "dtypes: float64(4), int64(9), object(5)\n",
      "memory usage: 457.3+ KB\n"
     ]
    }
   ],
   "source": [
    "df.info()"
   ]
  },
  {
   "cell_type": "code",
   "execution_count": 70,
   "id": "09a777e9-3652-44ee-b66a-9caa778cd6e9",
   "metadata": {},
   "outputs": [],
   "source": [
    "df.to_csv('Final3_gurgaon_properties_cleaned.csv', index = False)"
   ]
  },
  {
   "cell_type": "code",
   "execution_count": null,
   "id": "8b2705ec-ce5f-4331-aa54-86cbaa2f7540",
   "metadata": {},
   "outputs": [],
   "source": []
  }
 ],
 "metadata": {
  "kernelspec": {
   "display_name": "Python [conda env:base] *",
   "language": "python",
   "name": "conda-base-py"
  },
  "language_info": {
   "codemirror_mode": {
    "name": "ipython",
    "version": 3
   },
   "file_extension": ".py",
   "mimetype": "text/x-python",
   "name": "python",
   "nbconvert_exporter": "python",
   "pygments_lexer": "ipython3",
   "version": "3.13.5"
  }
 },
 "nbformat": 4,
 "nbformat_minor": 5
}
